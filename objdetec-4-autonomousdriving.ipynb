{
 "cells": [
  {
   "cell_type": "markdown",
   "id": "a31ab1b6",
   "metadata": {
    "papermill": {
     "duration": 0.008547,
     "end_time": "2024-11-12T01:06:01.716852",
     "exception": false,
     "start_time": "2024-11-12T01:06:01.708305",
     "status": "completed"
    },
    "tags": []
   },
   "source": [
    "## **Installing Ultralytics for Using Pre-trained Yolo Models**"
   ]
  },
  {
   "cell_type": "code",
   "execution_count": 1,
   "id": "fee1302f",
   "metadata": {
    "execution": {
     "iopub.execute_input": "2024-11-12T01:06:01.734546Z",
     "iopub.status.busy": "2024-11-12T01:06:01.734055Z",
     "iopub.status.idle": "2024-11-12T01:06:34.466747Z",
     "shell.execute_reply": "2024-11-12T01:06:34.464987Z"
    },
    "papermill": {
     "duration": 32.744862,
     "end_time": "2024-11-12T01:06:34.469725",
     "exception": false,
     "start_time": "2024-11-12T01:06:01.724863",
     "status": "completed"
    },
    "tags": []
   },
   "outputs": [
    {
     "name": "stdout",
     "output_type": "stream",
     "text": [
      "Collecting ultralytics\r\n",
      "  Downloading ultralytics-8.3.29-py3-none-any.whl.metadata (35 kB)\r\n",
      "Requirement already satisfied: numpy>=1.23.0 in /opt/conda/lib/python3.10/site-packages (from ultralytics) (1.26.4)\r\n",
      "Requirement already satisfied: matplotlib>=3.3.0 in /opt/conda/lib/python3.10/site-packages (from ultralytics) (3.7.5)\r\n",
      "Requirement already satisfied: opencv-python>=4.6.0 in /opt/conda/lib/python3.10/site-packages (from ultralytics) (4.10.0.84)\r\n",
      "Requirement already satisfied: pillow>=7.1.2 in /opt/conda/lib/python3.10/site-packages (from ultralytics) (10.3.0)\r\n",
      "Requirement already satisfied: pyyaml>=5.3.1 in /opt/conda/lib/python3.10/site-packages (from ultralytics) (6.0.2)\r\n",
      "Requirement already satisfied: requests>=2.23.0 in /opt/conda/lib/python3.10/site-packages (from ultralytics) (2.32.3)\r\n",
      "Requirement already satisfied: scipy>=1.4.1 in /opt/conda/lib/python3.10/site-packages (from ultralytics) (1.14.1)\r\n",
      "Requirement already satisfied: torch>=1.8.0 in /opt/conda/lib/python3.10/site-packages (from ultralytics) (2.4.0+cpu)\r\n",
      "Requirement already satisfied: torchvision>=0.9.0 in /opt/conda/lib/python3.10/site-packages (from ultralytics) (0.19.0+cpu)\r\n",
      "Requirement already satisfied: tqdm>=4.64.0 in /opt/conda/lib/python3.10/site-packages (from ultralytics) (4.66.4)\r\n",
      "Requirement already satisfied: psutil in /opt/conda/lib/python3.10/site-packages (from ultralytics) (5.9.3)\r\n",
      "Requirement already satisfied: py-cpuinfo in /opt/conda/lib/python3.10/site-packages (from ultralytics) (9.0.0)\r\n",
      "Requirement already satisfied: pandas>=1.1.4 in /opt/conda/lib/python3.10/site-packages (from ultralytics) (2.2.3)\r\n",
      "Requirement already satisfied: seaborn>=0.11.0 in /opt/conda/lib/python3.10/site-packages (from ultralytics) (0.12.2)\r\n",
      "Collecting ultralytics-thop>=2.0.0 (from ultralytics)\r\n",
      "  Downloading ultralytics_thop-2.0.11-py3-none-any.whl.metadata (9.4 kB)\r\n",
      "Requirement already satisfied: contourpy>=1.0.1 in /opt/conda/lib/python3.10/site-packages (from matplotlib>=3.3.0->ultralytics) (1.2.1)\r\n",
      "Requirement already satisfied: cycler>=0.10 in /opt/conda/lib/python3.10/site-packages (from matplotlib>=3.3.0->ultralytics) (0.12.1)\r\n",
      "Requirement already satisfied: fonttools>=4.22.0 in /opt/conda/lib/python3.10/site-packages (from matplotlib>=3.3.0->ultralytics) (4.53.0)\r\n",
      "Requirement already satisfied: kiwisolver>=1.0.1 in /opt/conda/lib/python3.10/site-packages (from matplotlib>=3.3.0->ultralytics) (1.4.5)\r\n",
      "Requirement already satisfied: packaging>=20.0 in /opt/conda/lib/python3.10/site-packages (from matplotlib>=3.3.0->ultralytics) (21.3)\r\n",
      "Requirement already satisfied: pyparsing>=2.3.1 in /opt/conda/lib/python3.10/site-packages (from matplotlib>=3.3.0->ultralytics) (3.1.2)\r\n",
      "Requirement already satisfied: python-dateutil>=2.7 in /opt/conda/lib/python3.10/site-packages (from matplotlib>=3.3.0->ultralytics) (2.9.0.post0)\r\n",
      "Requirement already satisfied: pytz>=2020.1 in /opt/conda/lib/python3.10/site-packages (from pandas>=1.1.4->ultralytics) (2024.1)\r\n",
      "Requirement already satisfied: tzdata>=2022.7 in /opt/conda/lib/python3.10/site-packages (from pandas>=1.1.4->ultralytics) (2024.1)\r\n",
      "Requirement already satisfied: charset-normalizer<4,>=2 in /opt/conda/lib/python3.10/site-packages (from requests>=2.23.0->ultralytics) (3.3.2)\r\n",
      "Requirement already satisfied: idna<4,>=2.5 in /opt/conda/lib/python3.10/site-packages (from requests>=2.23.0->ultralytics) (3.7)\r\n",
      "Requirement already satisfied: urllib3<3,>=1.21.1 in /opt/conda/lib/python3.10/site-packages (from requests>=2.23.0->ultralytics) (1.26.18)\r\n",
      "Requirement already satisfied: certifi>=2017.4.17 in /opt/conda/lib/python3.10/site-packages (from requests>=2.23.0->ultralytics) (2024.8.30)\r\n",
      "Requirement already satisfied: filelock in /opt/conda/lib/python3.10/site-packages (from torch>=1.8.0->ultralytics) (3.15.1)\r\n",
      "Requirement already satisfied: typing-extensions>=4.8.0 in /opt/conda/lib/python3.10/site-packages (from torch>=1.8.0->ultralytics) (4.12.2)\r\n",
      "Requirement already satisfied: sympy in /opt/conda/lib/python3.10/site-packages (from torch>=1.8.0->ultralytics) (1.12)\r\n",
      "Requirement already satisfied: networkx in /opt/conda/lib/python3.10/site-packages (from torch>=1.8.0->ultralytics) (3.3)\r\n",
      "Requirement already satisfied: jinja2 in /opt/conda/lib/python3.10/site-packages (from torch>=1.8.0->ultralytics) (3.1.4)\r\n",
      "Requirement already satisfied: fsspec in /opt/conda/lib/python3.10/site-packages (from torch>=1.8.0->ultralytics) (2024.6.1)\r\n",
      "Requirement already satisfied: six>=1.5 in /opt/conda/lib/python3.10/site-packages (from python-dateutil>=2.7->matplotlib>=3.3.0->ultralytics) (1.16.0)\r\n",
      "Requirement already satisfied: MarkupSafe>=2.0 in /opt/conda/lib/python3.10/site-packages (from jinja2->torch>=1.8.0->ultralytics) (2.1.5)\r\n",
      "Requirement already satisfied: mpmath>=0.19 in /opt/conda/lib/python3.10/site-packages (from sympy->torch>=1.8.0->ultralytics) (1.3.0)\r\n",
      "Downloading ultralytics-8.3.29-py3-none-any.whl (883 kB)\r\n",
      "\u001b[2K   \u001b[90m━━━━━━━━━━━━━━━━━━━━━━━━━━━━━━━━━━━━━━━━\u001b[0m \u001b[32m883.8/883.8 kB\u001b[0m \u001b[31m14.6 MB/s\u001b[0m eta \u001b[36m0:00:00\u001b[0m\r\n",
      "\u001b[?25hDownloading ultralytics_thop-2.0.11-py3-none-any.whl (26 kB)\r\n",
      "Installing collected packages: ultralytics-thop, ultralytics\r\n",
      "Successfully installed ultralytics-8.3.29 ultralytics-thop-2.0.11\r\n",
      "Collecting roboflow\r\n",
      "  Downloading roboflow-1.1.49-py3-none-any.whl.metadata (9.7 kB)\r\n",
      "Requirement already satisfied: certifi in /opt/conda/lib/python3.10/site-packages (from roboflow) (2024.8.30)\r\n",
      "Requirement already satisfied: idna==3.7 in /opt/conda/lib/python3.10/site-packages (from roboflow) (3.7)\r\n",
      "Requirement already satisfied: cycler in /opt/conda/lib/python3.10/site-packages (from roboflow) (0.12.1)\r\n",
      "Requirement already satisfied: kiwisolver>=1.3.1 in /opt/conda/lib/python3.10/site-packages (from roboflow) (1.4.5)\r\n",
      "Requirement already satisfied: matplotlib in /opt/conda/lib/python3.10/site-packages (from roboflow) (3.7.5)\r\n",
      "Requirement already satisfied: numpy>=1.18.5 in /opt/conda/lib/python3.10/site-packages (from roboflow) (1.26.4)\r\n",
      "Requirement already satisfied: opencv-python-headless==4.10.0.84 in /opt/conda/lib/python3.10/site-packages (from roboflow) (4.10.0.84)\r\n",
      "Requirement already satisfied: Pillow>=7.1.2 in /opt/conda/lib/python3.10/site-packages (from roboflow) (10.3.0)\r\n",
      "Requirement already satisfied: python-dateutil in /opt/conda/lib/python3.10/site-packages (from roboflow) (2.9.0.post0)\r\n",
      "Requirement already satisfied: python-dotenv in /opt/conda/lib/python3.10/site-packages (from roboflow) (1.0.1)\r\n",
      "Requirement already satisfied: requests in /opt/conda/lib/python3.10/site-packages (from roboflow) (2.32.3)\r\n",
      "Requirement already satisfied: six in /opt/conda/lib/python3.10/site-packages (from roboflow) (1.16.0)\r\n",
      "Requirement already satisfied: urllib3>=1.26.6 in /opt/conda/lib/python3.10/site-packages (from roboflow) (1.26.18)\r\n",
      "Requirement already satisfied: tqdm>=4.41.0 in /opt/conda/lib/python3.10/site-packages (from roboflow) (4.66.4)\r\n",
      "Requirement already satisfied: PyYAML>=5.3.1 in /opt/conda/lib/python3.10/site-packages (from roboflow) (6.0.2)\r\n",
      "Requirement already satisfied: requests-toolbelt in /opt/conda/lib/python3.10/site-packages (from roboflow) (0.10.1)\r\n",
      "Collecting filetype (from roboflow)\r\n",
      "  Downloading filetype-1.2.0-py2.py3-none-any.whl.metadata (6.5 kB)\r\n",
      "Requirement already satisfied: contourpy>=1.0.1 in /opt/conda/lib/python3.10/site-packages (from matplotlib->roboflow) (1.2.1)\r\n",
      "Requirement already satisfied: fonttools>=4.22.0 in /opt/conda/lib/python3.10/site-packages (from matplotlib->roboflow) (4.53.0)\r\n",
      "Requirement already satisfied: packaging>=20.0 in /opt/conda/lib/python3.10/site-packages (from matplotlib->roboflow) (21.3)\r\n",
      "Requirement already satisfied: pyparsing>=2.3.1 in /opt/conda/lib/python3.10/site-packages (from matplotlib->roboflow) (3.1.2)\r\n",
      "Requirement already satisfied: charset-normalizer<4,>=2 in /opt/conda/lib/python3.10/site-packages (from requests->roboflow) (3.3.2)\r\n",
      "Downloading roboflow-1.1.49-py3-none-any.whl (80 kB)\r\n",
      "\u001b[2K   \u001b[90m━━━━━━━━━━━━━━━━━━━━━━━━━━━━━━━━━━━━━━━━\u001b[0m \u001b[32m80.9/80.9 kB\u001b[0m \u001b[31m1.9 MB/s\u001b[0m eta \u001b[36m0:00:00\u001b[0m\r\n",
      "\u001b[?25hDownloading filetype-1.2.0-py2.py3-none-any.whl (19 kB)\r\n",
      "Installing collected packages: filetype, roboflow\r\n",
      "Successfully installed filetype-1.2.0 roboflow-1.1.49\r\n"
     ]
    }
   ],
   "source": [
    "# Install the ultralytics package from PyPI\n",
    "!pip install ultralytics\n",
    "!pip install roboflow"
   ]
  },
  {
   "cell_type": "markdown",
   "id": "3bcec456",
   "metadata": {
    "papermill": {
     "duration": 0.010176,
     "end_time": "2024-11-12T01:06:34.490686",
     "exception": false,
     "start_time": "2024-11-12T01:06:34.480510",
     "status": "completed"
    },
    "tags": []
   },
   "source": [
    "# **Importing Used Libraries and Seed for Reproducibility**"
   ]
  },
  {
   "cell_type": "code",
   "execution_count": 2,
   "id": "e2e07052",
   "metadata": {
    "_cell_guid": "b1076dfc-b9ad-4769-8c92-a6c4dae69d19",
    "_uuid": "8f2839f25d086af736a60e9eeb907d3b93b6e0e5",
    "execution": {
     "iopub.execute_input": "2024-11-12T01:06:34.514778Z",
     "iopub.status.busy": "2024-11-12T01:06:34.514310Z",
     "iopub.status.idle": "2024-11-12T01:06:42.374645Z",
     "shell.execute_reply": "2024-11-12T01:06:42.373274Z"
    },
    "papermill": {
     "duration": 7.877146,
     "end_time": "2024-11-12T01:06:42.378065",
     "exception": false,
     "start_time": "2024-11-12T01:06:34.500919",
     "status": "completed"
    },
    "tags": []
   },
   "outputs": [
    {
     "name": "stdout",
     "output_type": "stream",
     "text": [
      "Creating new Ultralytics Settings v0.0.6 file ✅ \n",
      "View Ultralytics Settings with 'yolo settings' or at '/root/.config/Ultralytics/settings.json'\n",
      "Update Settings with 'yolo settings key=value', i.e. 'yolo settings runs_dir=path/to/dir'. For help see https://docs.ultralytics.com/quickstart/#ultralytics-settings.\n"
     ]
    }
   ],
   "source": [
    "import numpy as np # linear algebra\n",
    "import matplotlib.pyplot as plt\n",
    "import random\n",
    "import torch ## PyTorch\n",
    "from itertools import islice\n",
    "from ultralytics import YOLO\n",
    "import pandas as pd\n",
    "from pathlib import Path\n",
    "import json\n",
    "from sklearn.model_selection import train_test_split\n",
    "from tqdm.auto import tqdm\n",
    "import shutil\n",
    "from PIL import Image\n",
    "\n",
    "\n",
    "## For selective classification\n",
    "import warnings\n",
    "# Suppress the specific sklearn warning\n",
    "warnings.filterwarnings(\"ignore\", message= \"y_pred contains classes not in y_true\")\n",
    "warnings.filterwarnings(\"ignore\", category=UserWarning)\n",
    "warnings.filterwarnings('ignore', category=FutureWarning)\n",
    "warnings.filterwarnings('ignore', category=RuntimeWarning)"
   ]
  },
  {
   "cell_type": "code",
   "execution_count": 3,
   "id": "018de120",
   "metadata": {
    "_cell_guid": "b1076dfc-b9ad-4769-8c92-a6c4dae69d19",
    "_uuid": "8f2839f25d086af736a60e9eeb907d3b93b6e0e5",
    "execution": {
     "iopub.execute_input": "2024-11-12T01:06:42.402673Z",
     "iopub.status.busy": "2024-11-12T01:06:42.402013Z",
     "iopub.status.idle": "2024-11-12T01:06:42.420221Z",
     "shell.execute_reply": "2024-11-12T01:06:42.418695Z"
    },
    "papermill": {
     "duration": 0.03394,
     "end_time": "2024-11-12T01:06:42.423153",
     "exception": false,
     "start_time": "2024-11-12T01:06:42.389213",
     "status": "completed"
    },
    "tags": []
   },
   "outputs": [
    {
     "name": "stdout",
     "output_type": "stream",
     "text": [
      "GPU is not available.\n"
     ]
    }
   ],
   "source": [
    "# Setting the random seed for reproducibility\n",
    "seed = 0\n",
    "np.random.seed(seed) ## for numpy\n",
    "torch.manual_seed(seed) ## for PyTorch\n",
    "torch.cuda.manual_seed(seed)\n",
    "random.seed(0) ## for random module on python\n",
    "\n",
    "\n",
    "# Check if a GPU is available\n",
    "if torch.cuda.is_available():\n",
    "    print(\"GPU is available.\")\n",
    "    num_gpus = torch.cuda.device_count()\n",
    "    print(f\"Number of GPUs available: {num_gpus}\")\n",
    "    \n",
    "    for i in range(num_gpus):\n",
    "        print(f\"GPU {i}: {torch.cuda.get_device_name(i)}\")\n",
    "else:\n",
    "    print(\"GPU is not available.\")\n",
    "    \n",
    "\n",
    "device = torch.device(\"cuda\" if torch.cuda.is_available() else \"cpu\") ## use gpu if its available"
   ]
  },
  {
   "cell_type": "markdown",
   "id": "3e1e2f5b",
   "metadata": {
    "papermill": {
     "duration": 0.010363,
     "end_time": "2024-11-12T01:06:42.444331",
     "exception": false,
     "start_time": "2024-11-12T01:06:42.433968",
     "status": "completed"
    },
    "tags": []
   },
   "source": [
    "# **1 - Loading and Preparing the Data (EDA)**"
   ]
  },
  {
   "cell_type": "code",
   "execution_count": 4,
   "id": "4deeb08c",
   "metadata": {
    "execution": {
     "iopub.execute_input": "2024-11-12T01:06:42.467551Z",
     "iopub.status.busy": "2024-11-12T01:06:42.467036Z",
     "iopub.status.idle": "2024-11-12T01:06:42.483220Z",
     "shell.execute_reply": "2024-11-12T01:06:42.481760Z"
    },
    "papermill": {
     "duration": 0.030997,
     "end_time": "2024-11-12T01:06:42.485957",
     "exception": false,
     "start_time": "2024-11-12T01:06:42.454960",
     "status": "completed"
    },
    "tags": []
   },
   "outputs": [
    {
     "data": {
      "text/plain": [
       "{'Car': 0,\n",
       " 'Pedestrian': 1,\n",
       " 'Van': 2,\n",
       " 'Cyclist': 3,\n",
       " 'Truck': 4,\n",
       " 'Misc': 5,\n",
       " 'Tram': 6,\n",
       " 'Person_sitting': 7}"
      ]
     },
     "execution_count": 4,
     "metadata": {},
     "output_type": "execute_result"
    }
   ],
   "source": [
    "## uses the kitti-dataset-yolo-format file to convert to acceptable yolo inputs\n",
    "base_dir = Path('/kaggle/input/kitti-dataset')\n",
    "img_path = base_dir / 'data_object_image_2' / 'training' / 'image_2'\n",
    "label_path = Path('/kaggle/input/kitti-dataset-yolo-format/labels')\n",
    "with open('/kaggle/input/kitti-dataset-yolo-format/classes.json','r') as f:\n",
    "    classes = json.load(f)\n",
    "\n",
    "classes"
   ]
  },
  {
   "cell_type": "code",
   "execution_count": 5,
   "id": "618e828c",
   "metadata": {
    "execution": {
     "iopub.execute_input": "2024-11-12T01:06:42.510746Z",
     "iopub.status.busy": "2024-11-12T01:06:42.510228Z",
     "iopub.status.idle": "2024-11-12T01:06:43.700075Z",
     "shell.execute_reply": "2024-11-12T01:06:43.698904Z"
    },
    "papermill": {
     "duration": 1.205754,
     "end_time": "2024-11-12T01:06:43.702691",
     "exception": false,
     "start_time": "2024-11-12T01:06:42.496937",
     "status": "completed"
    },
    "tags": []
   },
   "outputs": [
    {
     "data": {
      "text/plain": [
       "[(PosixPath('/kaggle/input/kitti-dataset/data_object_image_2/training/image_2/000000.png'),\n",
       "  PosixPath('/kaggle/input/kitti-dataset-yolo-format/labels/000000.txt')),\n",
       " (PosixPath('/kaggle/input/kitti-dataset/data_object_image_2/training/image_2/000001.png'),\n",
       "  PosixPath('/kaggle/input/kitti-dataset-yolo-format/labels/000001.txt'))]"
      ]
     },
     "execution_count": 5,
     "metadata": {},
     "output_type": "execute_result"
    }
   ],
   "source": [
    "## create pais with images and labels files\n",
    "images = sorted(list(img_path.glob('*')))\n",
    "labels = sorted(list(label_path.glob('*')))\n",
    "pairs = list(zip(images,labels))\n",
    "pairs[:2]"
   ]
  },
  {
   "cell_type": "code",
   "execution_count": 6,
   "id": "025a94ef",
   "metadata": {
    "execution": {
     "iopub.execute_input": "2024-11-12T01:06:43.726697Z",
     "iopub.status.busy": "2024-11-12T01:06:43.725899Z",
     "iopub.status.idle": "2024-11-12T01:06:43.741147Z",
     "shell.execute_reply": "2024-11-12T01:06:43.739864Z"
    },
    "papermill": {
     "duration": 0.030608,
     "end_time": "2024-11-12T01:06:43.744267",
     "exception": false,
     "start_time": "2024-11-12T01:06:43.713659",
     "status": "completed"
    },
    "tags": []
   },
   "outputs": [
    {
     "data": {
      "text/plain": [
       "(5984, 1347, 150)"
      ]
     },
     "execution_count": 6,
     "metadata": {},
     "output_type": "execute_result"
    }
   ],
   "source": [
    "## spliting between train/val/test sets\n",
    "\n",
    "train, test_val = train_test_split(pairs,test_size=0.2,shuffle=True)\n",
    "\n",
    "val, test = train_test_split(test_val, test_size=0.1, shuffle = False)\n",
    "\n",
    "len(train), len(val), len(test)"
   ]
  },
  {
   "cell_type": "code",
   "execution_count": 7,
   "id": "b0391795",
   "metadata": {
    "execution": {
     "iopub.execute_input": "2024-11-12T01:06:43.770469Z",
     "iopub.status.busy": "2024-11-12T01:06:43.769478Z",
     "iopub.status.idle": "2024-11-12T01:06:43.776106Z",
     "shell.execute_reply": "2024-11-12T01:06:43.774821Z"
    },
    "papermill": {
     "duration": 0.023036,
     "end_time": "2024-11-12T01:06:43.779060",
     "exception": false,
     "start_time": "2024-11-12T01:06:43.756024",
     "status": "completed"
    },
    "tags": []
   },
   "outputs": [],
   "source": [
    "## creating paths for train/val/test sets (organizing files)\n",
    "\n",
    "# destination paths\n",
    "output_dir = Path('/kaggle/working')\n",
    "output_train = output_dir / 'train'\n",
    "output_val = output_dir / 'val'\n",
    "output_test = output_dir / 'test'"
   ]
  },
  {
   "cell_type": "code",
   "execution_count": 8,
   "id": "1b3ebb14",
   "metadata": {
    "execution": {
     "iopub.execute_input": "2024-11-12T01:06:43.803555Z",
     "iopub.status.busy": "2024-11-12T01:06:43.803050Z",
     "iopub.status.idle": "2024-11-12T01:06:43.810553Z",
     "shell.execute_reply": "2024-11-12T01:06:43.809320Z"
    },
    "papermill": {
     "duration": 0.022824,
     "end_time": "2024-11-12T01:06:43.813266",
     "exception": false,
     "start_time": "2024-11-12T01:06:43.790442",
     "status": "completed"
    },
    "tags": []
   },
   "outputs": [],
   "source": [
    "## creating the directories (train/val/test)\n",
    "output_train.mkdir(parents=True, exist_ok=True)\n",
    "output_val.mkdir(parents=True, exist_ok=True)\n",
    "output_test.mkdir(parents=True, exist_ok=True)"
   ]
  },
  {
   "cell_type": "code",
   "execution_count": 9,
   "id": "75c3637d",
   "metadata": {
    "execution": {
     "iopub.execute_input": "2024-11-12T01:06:43.838470Z",
     "iopub.status.busy": "2024-11-12T01:06:43.837206Z",
     "iopub.status.idle": "2024-11-12T01:06:43.844069Z",
     "shell.execute_reply": "2024-11-12T01:06:43.842884Z"
    },
    "papermill": {
     "duration": 0.022535,
     "end_time": "2024-11-12T01:06:43.847114",
     "exception": false,
     "start_time": "2024-11-12T01:06:43.824579",
     "status": "completed"
    },
    "tags": []
   },
   "outputs": [],
   "source": [
    "## creating function to copy files\n",
    "def copy_files(pairs, output_folder):\n",
    "    for img_file, label_file in pairs:\n",
    "        shutil.copy(img_file, output_folder / img_file.name)\n",
    "        shutil.copy(label_file, output_folder / label_file.name)"
   ]
  },
  {
   "cell_type": "code",
   "execution_count": 10,
   "id": "ad576070",
   "metadata": {
    "execution": {
     "iopub.execute_input": "2024-11-12T01:06:43.872047Z",
     "iopub.status.busy": "2024-11-12T01:06:43.871588Z",
     "iopub.status.idle": "2024-11-12T01:10:28.104240Z",
     "shell.execute_reply": "2024-11-12T01:10:28.102158Z"
    },
    "papermill": {
     "duration": 224.274324,
     "end_time": "2024-11-12T01:10:28.133067",
     "exception": false,
     "start_time": "2024-11-12T01:06:43.858743",
     "status": "completed"
    },
    "tags": []
   },
   "outputs": [
    {
     "name": "stdout",
     "output_type": "stream",
     "text": [
      "Training dataset: 5984 samples\n",
      "Validation dataset: 1347 samples\n",
      "Test dataset: 150 samples\n"
     ]
    }
   ],
   "source": [
    "## copying to their respective directories\n",
    "copy_files(train, output_train)\n",
    "copy_files(val, output_val)\n",
    "copy_files(test, output_test)\n",
    "\n",
    "print(f'Training dataset: {len(train)} samples')\n",
    "print(f'Validation dataset: {len(val)} samples')\n",
    "print(f'Test dataset: {len(test)} samples')"
   ]
  },
  {
   "cell_type": "code",
   "execution_count": 11,
   "id": "a8102056",
   "metadata": {
    "execution": {
     "iopub.execute_input": "2024-11-12T01:10:28.200795Z",
     "iopub.status.busy": "2024-11-12T01:10:28.199974Z",
     "iopub.status.idle": "2024-11-12T01:10:28.210178Z",
     "shell.execute_reply": "2024-11-12T01:10:28.208932Z"
    },
    "papermill": {
     "duration": 0.05008,
     "end_time": "2024-11-12T01:10:28.213203",
     "exception": false,
     "start_time": "2024-11-12T01:10:28.163123",
     "status": "completed"
    },
    "tags": []
   },
   "outputs": [],
   "source": [
    "## creating YAML file for to point to the data\n",
    "yaml_file = 'names:\\n'\n",
    "yaml_file += '\\n'.join(f'- {c}' for c in classes)\n",
    "yaml_file += f'\\nnc: {len(classes)}'\n",
    "yaml_file += f'\\ntrain: {str(output_train)}\\nval: {str(output_val)} \\ntest: {str(output_test)}'\n",
    "with open('kitti.yaml','w') as f:\n",
    "    f.write(yaml_file)"
   ]
  },
  {
   "cell_type": "code",
   "execution_count": 12,
   "id": "f4f72526",
   "metadata": {
    "execution": {
     "iopub.execute_input": "2024-11-12T01:10:28.243631Z",
     "iopub.status.busy": "2024-11-12T01:10:28.243140Z",
     "iopub.status.idle": "2024-11-12T01:10:29.429470Z",
     "shell.execute_reply": "2024-11-12T01:10:29.427934Z"
    },
    "papermill": {
     "duration": 1.202912,
     "end_time": "2024-11-12T01:10:29.432672",
     "exception": false,
     "start_time": "2024-11-12T01:10:28.229760",
     "status": "completed"
    },
    "tags": []
   },
   "outputs": [
    {
     "name": "stdout",
     "output_type": "stream",
     "text": [
      "names:\r\n",
      "- Car\r\n",
      "- Pedestrian\r\n",
      "- Van\r\n",
      "- Cyclist\r\n",
      "- Truck\r\n",
      "- Misc\r\n",
      "- Tram\r\n",
      "- Person_sitting\r\n",
      "nc: 8\r\n",
      "train: /kaggle/working/train\r\n",
      "val: /kaggle/working/val \r\n",
      "test: /kaggle/working/test"
     ]
    }
   ],
   "source": [
    "!cat kitti.yaml"
   ]
  },
  {
   "cell_type": "markdown",
   "id": "3dc26345",
   "metadata": {
    "papermill": {
     "duration": 0.011487,
     "end_time": "2024-11-12T01:10:29.455580",
     "exception": false,
     "start_time": "2024-11-12T01:10:29.444093",
     "status": "completed"
    },
    "tags": []
   },
   "source": [
    "# **2 - Choosing Model, Training/Validation Steps**"
   ]
  },
  {
   "cell_type": "markdown",
   "id": "e484142a",
   "metadata": {
    "papermill": {
     "duration": 0.01121,
     "end_time": "2024-11-12T01:10:29.478542",
     "exception": false,
     "start_time": "2024-11-12T01:10:29.467332",
     "status": "completed"
    },
    "tags": []
   },
   "source": [
    "## **Instantiating the Model**"
   ]
  },
  {
   "cell_type": "code",
   "execution_count": 13,
   "id": "021f8681",
   "metadata": {
    "execution": {
     "iopub.execute_input": "2024-11-12T01:10:29.503952Z",
     "iopub.status.busy": "2024-11-12T01:10:29.503480Z",
     "iopub.status.idle": "2024-11-12T01:10:31.490623Z",
     "shell.execute_reply": "2024-11-12T01:10:31.489482Z"
    },
    "papermill": {
     "duration": 2.003283,
     "end_time": "2024-11-12T01:10:31.493610",
     "exception": false,
     "start_time": "2024-11-12T01:10:29.490327",
     "status": "completed"
    },
    "tags": []
   },
   "outputs": [
    {
     "name": "stdout",
     "output_type": "stream",
     "text": [
      "Downloading https://github.com/ultralytics/assets/releases/download/v8.3.0/yolo11n.pt to 'yolo11n.pt'...\n"
     ]
    },
    {
     "name": "stderr",
     "output_type": "stream",
     "text": [
      "100%|██████████| 5.35M/5.35M [00:00<00:00, 63.3MB/s]\n"
     ]
    },
    {
     "name": "stdout",
     "output_type": "stream",
     "text": [
      "Transferred 499/499 items from pretrained weights\n"
     ]
    }
   ],
   "source": [
    "# Load a model\n",
    "model = YOLO(\"yolo11n.yaml\")  # build a new model from YAML\n",
    "model = YOLO(\"yolo11n.pt\")  # load a pretrained model (recommended for training)\n",
    "model = YOLO(\"yolo11n.yaml\").load(\"yolo11n.pt\")  # build from YAML and transfer weights"
   ]
  },
  {
   "cell_type": "markdown",
   "id": "dac9229b",
   "metadata": {
    "papermill": {
     "duration": 0.011652,
     "end_time": "2024-11-12T01:10:31.517200",
     "exception": false,
     "start_time": "2024-11-12T01:10:31.505548",
     "status": "completed"
    },
    "tags": []
   },
   "source": [
    "## **Training**"
   ]
  },
  {
   "cell_type": "code",
   "execution_count": 14,
   "id": "0865900f",
   "metadata": {
    "execution": {
     "iopub.execute_input": "2024-11-12T01:10:31.542650Z",
     "iopub.status.busy": "2024-11-12T01:10:31.542161Z",
     "iopub.status.idle": "2024-11-12T01:10:31.547475Z",
     "shell.execute_reply": "2024-11-12T01:10:31.546230Z"
    },
    "papermill": {
     "duration": 0.021237,
     "end_time": "2024-11-12T01:10:31.550271",
     "exception": false,
     "start_time": "2024-11-12T01:10:31.529034",
     "status": "completed"
    },
    "tags": []
   },
   "outputs": [],
   "source": [
    "#train_results = model.train(\n",
    "#    data='/kaggle/working/kitti.yaml', \n",
    "#    epochs=10,\n",
    "#    patience=3,\n",
    "#    mixup=0.1,\n",
    "#    project='yolo11n-kitti',\n",
    "#    device=0\n",
    "#)"
   ]
  },
  {
   "cell_type": "markdown",
   "id": "ae048d0d",
   "metadata": {
    "papermill": {
     "duration": 0.011776,
     "end_time": "2024-11-12T01:10:31.573930",
     "exception": false,
     "start_time": "2024-11-12T01:10:31.562154",
     "status": "completed"
    },
    "tags": []
   },
   "source": [
    "## **Validating**"
   ]
  },
  {
   "cell_type": "code",
   "execution_count": 15,
   "id": "b38817da",
   "metadata": {
    "execution": {
     "iopub.execute_input": "2024-11-12T01:10:31.599597Z",
     "iopub.status.busy": "2024-11-12T01:10:31.599142Z",
     "iopub.status.idle": "2024-11-12T01:10:31.604726Z",
     "shell.execute_reply": "2024-11-12T01:10:31.603290Z"
    },
    "papermill": {
     "duration": 0.021665,
     "end_time": "2024-11-12T01:10:31.607571",
     "exception": false,
     "start_time": "2024-11-12T01:10:31.585906",
     "status": "completed"
    },
    "tags": []
   },
   "outputs": [],
   "source": [
    "#val_results = model.val()"
   ]
  },
  {
   "cell_type": "markdown",
   "id": "95961218",
   "metadata": {
    "papermill": {
     "duration": 0.011646,
     "end_time": "2024-11-12T01:10:31.631129",
     "exception": false,
     "start_time": "2024-11-12T01:10:31.619483",
     "status": "completed"
    },
    "tags": []
   },
   "source": [
    "## **Seeing Results from Training**"
   ]
  },
  {
   "cell_type": "code",
   "execution_count": 16,
   "id": "7fd41d25",
   "metadata": {
    "execution": {
     "iopub.execute_input": "2024-11-12T01:10:31.656972Z",
     "iopub.status.busy": "2024-11-12T01:10:31.656541Z",
     "iopub.status.idle": "2024-11-12T01:10:31.661662Z",
     "shell.execute_reply": "2024-11-12T01:10:31.660453Z"
    },
    "papermill": {
     "duration": 0.021375,
     "end_time": "2024-11-12T01:10:31.664436",
     "exception": false,
     "start_time": "2024-11-12T01:10:31.643061",
     "status": "completed"
    },
    "tags": []
   },
   "outputs": [],
   "source": [
    "#plt.figure(figsize=(10,20))\n",
    "#plt.imshow(Image.open('/kaggle/working/yolo11n-kitti/train/results.png'))\n",
    "#plt.axis('off')\n",
    "#plt.show()"
   ]
  },
  {
   "cell_type": "code",
   "execution_count": 17,
   "id": "76fa6b10",
   "metadata": {
    "execution": {
     "iopub.execute_input": "2024-11-12T01:10:31.690432Z",
     "iopub.status.busy": "2024-11-12T01:10:31.689950Z",
     "iopub.status.idle": "2024-11-12T01:10:31.695255Z",
     "shell.execute_reply": "2024-11-12T01:10:31.693981Z"
    },
    "papermill": {
     "duration": 0.021424,
     "end_time": "2024-11-12T01:10:31.697880",
     "exception": false,
     "start_time": "2024-11-12T01:10:31.676456",
     "status": "completed"
    },
    "tags": []
   },
   "outputs": [],
   "source": [
    "#plt.figure(figsize=(10,20))\n",
    "#plt.imshow(Image.open('/kaggle/working/yolo11n-kitti/val/confusion_matrix.png'))\n",
    "#plt.axis('off')\n",
    "#plt.show()"
   ]
  }
 ],
 "metadata": {
  "kaggle": {
   "accelerator": "none",
   "dataSources": [
    {
     "datasetId": 976194,
     "sourceId": 1650695,
     "sourceType": "datasetVersion"
    },
    {
     "datasetId": 3673013,
     "sourceId": 6374376,
     "sourceType": "datasetVersion"
    }
   ],
   "dockerImageVersionId": 30786,
   "isGpuEnabled": false,
   "isInternetEnabled": true,
   "language": "python",
   "sourceType": "notebook"
  },
  "kernelspec": {
   "display_name": "Python 3",
   "language": "python",
   "name": "python3"
  },
  "language_info": {
   "codemirror_mode": {
    "name": "ipython",
    "version": 3
   },
   "file_extension": ".py",
   "mimetype": "text/x-python",
   "name": "python",
   "nbconvert_exporter": "python",
   "pygments_lexer": "ipython3",
   "version": "3.10.14"
  },
  "papermill": {
   "default_parameters": {},
   "duration": 275.659766,
   "end_time": "2024-11-12T01:10:34.153470",
   "environment_variables": {},
   "exception": null,
   "input_path": "__notebook__.ipynb",
   "output_path": "__notebook__.ipynb",
   "parameters": {},
   "start_time": "2024-11-12T01:05:58.493704",
   "version": "2.6.0"
  }
 },
 "nbformat": 4,
 "nbformat_minor": 5
}
